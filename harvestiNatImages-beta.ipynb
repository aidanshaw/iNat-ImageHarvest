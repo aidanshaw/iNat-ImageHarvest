{
 "cells": [
  {
   "cell_type": "code",
   "execution_count": 2,
   "metadata": {
    "collapsed": true
   },
   "outputs": [],
   "source": [
    "import pandas as pd\n",
    "import requests\n",
    "import json\n",
    "import time\n",
    "import urllib.request\n",
    "import os\n",
    "import csv\n",
    "import dropbox\n",
    "import sys"
   ]
  },
  {
   "cell_type": "code",
   "execution_count": 3,
   "metadata": {
    "scrolled": false
   },
   "outputs": [],
   "source": [
    "sinceDate = \"\"\n",
    "\n",
    "#os.chdir('ImageFiles1')\n",
    "\n",
    "userIDs = { 'joeyshaw' : 'JoeyShaw', \n",
    "           #'destes' : 'DwayneEstes', \n",
    "           #'themorrislab' : 'AshleyMorris',\n",
    "           #'ruhfel' : 'BradRuhfel', \n",
    "           #'kentuckybotanist': 'TaraLittlefield'\n",
    "          }\n",
    "dbx = dropbox.Dropbox(\"vxb15liTLwsAAAAAAAATe22NyPLCUpDrrCbkYOsH1GIdLN4tjj-wDVpIc4OtERQQ\")\n",
    "\n",
    "species_list = pd.read_excel('TNKY_list.xlsx')\n",
    "\n",
    "species_list = list(species_list['TNKY ScientificName'])\n",
    "\n",
    "species_str = '//'.join(species_list)\n",
    "\n",
    "file_names = []\n",
    "file_url = []"
   ]
  },
  {
   "cell_type": "code",
   "execution_count": 5,
   "metadata": {
    "scrolled": true
   },
   "outputs": [
    {
     "name": "stdout",
     "output_type": "stream",
     "text": [
      "JoeyShaw\n",
      "2813\n",
      "15\n",
      "ok\n",
      "on page 1 of 15\n",
      "Populus_alba_JoeyShaw_1.jpg\n",
      "Populus_alba_JoeyShaw_2.jpg\n",
      "Populus_alba_JoeyShaw_3.jpg\n",
      "Populus_alba_JoeyShaw_4.jpg\n",
      "Populus_alba_JoeyShaw_5.jpg\n",
      "Populus_alba_JoeyShaw_6.jpg\n",
      "Cunila_origanoides_JoeyShaw_1.jpg\n"
     ]
    },
    {
     "ename": "KeyboardInterrupt",
     "evalue": "",
     "output_type": "error",
     "traceback": [
      "\u001b[0;31m---------------------------------------------------------------------------\u001b[0m",
      "\u001b[0;31mKeyboardInterrupt\u001b[0m                         Traceback (most recent call last)",
      "\u001b[0;32m<ipython-input-5-73965d79116d>\u001b[0m in \u001b[0;36m<module>\u001b[0;34m()\u001b[0m\n\u001b[1;32m     49\u001b[0m \u001b[0;34m\u001b[0m\u001b[0m\n\u001b[1;32m     50\u001b[0m \u001b[0;34m\u001b[0m\u001b[0m\n\u001b[0;32m---> 51\u001b[0;31m                             \u001b[0mtime\u001b[0m\u001b[0;34m.\u001b[0m\u001b[0msleep\u001b[0m\u001b[0;34m(\u001b[0m\u001b[0;36m1.1\u001b[0m\u001b[0;34m)\u001b[0m\u001b[0;34m\u001b[0m\u001b[0m\n\u001b[0m\u001b[1;32m     52\u001b[0m                     \u001b[0;32melse\u001b[0m\u001b[0;34m:\u001b[0m\u001b[0;34m\u001b[0m\u001b[0m\n\u001b[1;32m     53\u001b[0m                         \u001b[0;32mpass\u001b[0m\u001b[0;34m\u001b[0m\u001b[0m\n",
      "\u001b[0;31mKeyboardInterrupt\u001b[0m: "
     ]
    }
   ],
   "source": [
    "for userID, userName in userIDs.items(): \n",
    "    url = f'https://api.inaturalist.org/v1/observations?identified=true&photos=true&user_login={userID}&iconic_taxa=Plantae&page={page}&per_page=200&&updated_since={sinceDate}&order=desc&order_by=id'\n",
    "    resp = requests.get(url=url)\n",
    "    time.sleep(1.1)\n",
    "    jsonData = resp.json() # Check the JSON Response Content documentation below\n",
    "    totResults = jsonData['total_results']\n",
    "    if totResults > 0:\n",
    "        whole, decimal = str((totResults / 200)).split('.')\n",
    "        whole = int(whole)\n",
    "        if int(decimal) > 0:\n",
    "            whole += 1\n",
    "            maxPages = whole\n",
    "\n",
    "        print (userName)\n",
    "        print (totResults)\n",
    "        print (maxPages)\n",
    "\n",
    "        pages = range(1, (maxPages + 1))\n",
    "        if maxPages > 1 == True:\n",
    "            for page in pages:\n",
    "                print(f'on page {page} of {len(pages)}')\n",
    "                url = f'https://api.inaturalist.org/v1/observations?identified=true&photos=true&user_login={userID}&iconic_taxa=Plantae&page={page}&per_page=200&&updated_since={sinceDate}&order=desc&order_by=id'     \n",
    "                resp = requests.get(url=url)\n",
    "                jsonData = resp.json() # Check the JSON Response Content documentation below\n",
    "                results1 = jsonData['results']\n",
    "\n",
    "                for obs in results1:\n",
    "                    if obs['taxon']['name'] in species_str:\n",
    "                        \n",
    "                        taxonName = obs['taxon']['name'].replace(' ','_')\n",
    "                        #obs['observation_photos'] seems syn to obs['photos']\n",
    "                        # the results from either (photos or obs_photos) is a list\n",
    "                        obsImages = obs['photos']\n",
    "                        \n",
    "\n",
    "\n",
    "                        for i, obsImg in enumerate(obsImages):\n",
    "                            squareImgUrl = obsImg['url']\n",
    "                            fullImgURL = squareImgUrl.replace('square','large')\n",
    "                            fileName = f'{taxonName}_{userName}_{i + 1}.jpg'\n",
    "\n",
    "                            #file = requests.get(fullImgURL)\n",
    "\n",
    "\n",
    "                            #dbx.files_upload(file.content, f'/{fileName}')\n",
    "\n",
    "                            print(fileName)\n",
    "\n",
    "                    \n",
    "                            time.sleep(1.1)\n",
    "                    else:\n",
    "                        pass\n",
    "                    \n",
    "            else:\n",
    "                print('none')\n",
    "\n",
    "print ('Done')"
   ]
  },
  {
   "cell_type": "code",
   "execution_count": null,
   "metadata": {
    "collapsed": true
   },
   "outputs": [],
   "source": []
  }
 ],
 "metadata": {
  "kernelspec": {
   "display_name": "Python 3",
   "language": "python",
   "name": "python3"
  },
  "language_info": {
   "codemirror_mode": {
    "name": "ipython",
    "version": 3
   },
   "file_extension": ".py",
   "mimetype": "text/x-python",
   "name": "python",
   "nbconvert_exporter": "python",
   "pygments_lexer": "ipython3",
   "version": "3.6.2"
  }
 },
 "nbformat": 4,
 "nbformat_minor": 2
}
